{
 "cells": [
  {
   "cell_type": "markdown",
   "id": "3282ebe7",
   "metadata": {},
   "source": [
    "# 📘 06_map_visualization.ipynb\n"
   ]
  },
  {
   "cell_type": "markdown",
   "id": "c92decad",
   "metadata": {},
   "source": [
    "# Visualize traffic zones and changes over time using Folium or Plotly on NYC maps.\n"
   ]
  },
  {
   "cell_type": "code",
   "execution_count": 1,
   "id": "e549ee65",
   "metadata": {},
   "outputs": [],
   "source": [
    "# 06_map_visualization.ipynb\n",
    "import sys\n",
    "import os\n",
    "sys.path.append(os.path.abspath(os.path.join(os.getcwd(), '..')))\n",
    "\n",
    "import pandas as pd\n",
    "from src.visualization import visualize_clusters_on_map, export_html_map\n",
    "from IPython.display import IFrame\n",
    "\n"
   ]
  },
  {
   "cell_type": "code",
   "execution_count": 2,
   "id": "e686b1e3",
   "metadata": {},
   "outputs": [],
   "source": [
    "\n",
    "# Load clustered data\n",
    "data_path = \"../data/processed/clustered_trip_data.parquet\"\n",
    "df = pd.read_parquet(data_path)\n",
    "\n"
   ]
  },
  {
   "cell_type": "code",
   "execution_count": 3,
   "id": "5f25bc6e",
   "metadata": {},
   "outputs": [
    {
     "name": "stdout",
     "output_type": "stream",
     "text": [
      "Creating Folium map with MarkerCluster...\n",
      "Sampling 10000 rows from 1980062 total rows...\n"
     ]
    }
   ],
   "source": [
    "# Visualize with marker clustering and sampling\n",
    "traffic_map = visualize_clusters_on_map(\n",
    "    df,\n",
    "    lat_col='pickup_lat',\n",
    "    lon_col='pickup_lon',\n",
    "    cluster_col='zone_cluster',\n",
    "    sample_n=10000  # Sample size can be adjusted\n",
    ")"
   ]
  },
  {
   "cell_type": "code",
   "execution_count": 4,
   "id": "bd638585",
   "metadata": {},
   "outputs": [
    {
     "name": "stdout",
     "output_type": "stream",
     "text": [
      "Map saved to: ../outputs/maps/nyc_clustered_traffic_map.html\n"
     ]
    },
    {
     "data": {
      "text/html": [
       "\n",
       "        <iframe\n",
       "            width=\"1000\"\n",
       "            height=\"600\"\n",
       "            src=\"../outputs/maps/nyc_clustered_traffic_map.html\"\n",
       "            frameborder=\"0\"\n",
       "            allowfullscreen\n",
       "            \n",
       "        ></iframe>\n",
       "        "
      ],
      "text/plain": [
       "<IPython.lib.display.IFrame at 0x26e977be590>"
      ]
     },
     "execution_count": 4,
     "metadata": {},
     "output_type": "execute_result"
    }
   ],
   "source": [
    "\n",
    "# Save to HTML\n",
    "html_output = \"../outputs/maps/nyc_clustered_traffic_map.html\"\n",
    "export_html_map(traffic_map, html_output)\n",
    "\n",
    "# Show map inline\n",
    "from IPython.display import IFrame\n",
    "IFrame(src=html_output, width=1000, height=600)"
   ]
  },
  {
   "cell_type": "code",
   "execution_count": 1,
   "id": "7883994c",
   "metadata": {},
   "outputs": [],
   "source": [
    "# 06_map_visualization.ipynb\n",
    "import sys\n",
    "import os\n",
    "sys.path.append(os.path.abspath(os.path.join(os.getcwd(), '..')))\n",
    "\n",
    "from src.visualization import generate_map\n"
   ]
  },
  {
   "cell_type": "code",
   "execution_count": 2,
   "id": "85638a8a",
   "metadata": {},
   "outputs": [],
   "source": [
    "input_path = r\"C:\\Users\\VaishnaviM\\Desktop\\BIG_DATA\\data\\processed\\clustered_trip_data.parquet\"\n",
    "output_map = r\"C:\\Users\\VaishnaviM\\Desktop\\BIG_DATA\\outputs\\maps\\nyc_traffic_zones_map_new.html\"\n"
   ]
  },
  {
   "cell_type": "code",
   "execution_count": 3,
   "id": "2f730c33",
   "metadata": {},
   "outputs": [
    {
     "name": "stdout",
     "output_type": "stream",
     "text": [
      "Loading clustered trip data from C:\\Users\\VaishnaviM\\Desktop\\BIG_DATA\\data\\processed\\clustered_trip_data.parquet\n",
      "Sampled 19801 records from 1980062 (fraction=0.01)\n",
      "Plotting traffic zones on NYC map...\n",
      "Map saved to C:\\Users\\VaishnaviM\\Desktop\\BIG_DATA\\outputs\\maps\\nyc_traffic_zones_map_new.html\n"
     ]
    }
   ],
   "source": [
    "generate_map(input_path, output_map)\n"
   ]
  },
  {
   "cell_type": "code",
   "execution_count": 4,
   "id": "1880be2f",
   "metadata": {},
   "outputs": [
    {
     "data": {
      "text/html": [
       "\n",
       "        <iframe\n",
       "            width=\"900\"\n",
       "            height=\"600\"\n",
       "            src=\"C:\\Users\\VaishnaviM\\Desktop\\BIG_DATA\\outputs\\maps\\nyc_traffic_zones_map_new.html\"\n",
       "            frameborder=\"0\"\n",
       "            allowfullscreen\n",
       "            \n",
       "        ></iframe>\n",
       "        "
      ],
      "text/plain": [
       "<IPython.lib.display.IFrame at 0x1520f71d9f0>"
      ]
     },
     "execution_count": 4,
     "metadata": {},
     "output_type": "execute_result"
    }
   ],
   "source": [
    "from IPython.display import IFrame\n",
    "\n",
    "# Display the saved HTML map in the notebook\n",
    "IFrame(src=output_map, width=900, height=600)\n"
   ]
  }
 ],
 "metadata": {
  "kernelspec": {
   "display_name": "Python 3",
   "language": "python",
   "name": "python3"
  },
  "language_info": {
   "codemirror_mode": {
    "name": "ipython",
    "version": 3
   },
   "file_extension": ".py",
   "mimetype": "text/x-python",
   "name": "python",
   "nbconvert_exporter": "python",
   "pygments_lexer": "ipython3",
   "version": "3.10.11"
  }
 },
 "nbformat": 4,
 "nbformat_minor": 5
}
